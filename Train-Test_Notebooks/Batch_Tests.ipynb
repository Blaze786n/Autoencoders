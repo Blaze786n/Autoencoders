{
 "cells": [
  {
   "cell_type": "markdown",
   "id": "e894ac26",
   "metadata": {},
   "source": [
    "# Test notebook for different batch sizes\n",
    "### Dataset: Natural Images https://www.kaggle.com/datasets/prasunroy/natural-images\n",
    "### Test setup: 64 images from the natural images dataset were chosen with 8 images from each class. The model was evaluated for batch sizes from 8 to 256\n"
   ]
  },
  {
   "cell_type": "code",
   "execution_count": 1,
   "id": "f1bf7d1d",
   "metadata": {
    "_cell_guid": "b1076dfc-b9ad-4769-8c92-a6c4dae69d19",
    "_uuid": "8f2839f25d086af736a60e9eeb907d3b93b6e0e5",
    "execution": {
     "iopub.execute_input": "2024-05-08T04:22:29.057616Z",
     "iopub.status.busy": "2024-05-08T04:22:29.057162Z",
     "iopub.status.idle": "2024-05-08T04:22:41.823831Z",
     "shell.execute_reply": "2024-05-08T04:22:41.822804Z"
    },
    "papermill": {
     "duration": 12.779781,
     "end_time": "2024-05-08T04:22:41.826483",
     "exception": false,
     "start_time": "2024-05-08T04:22:29.046702",
     "status": "completed"
    },
    "tags": []
   },
   "outputs": [],
   "source": [
    "\n",
    "import numpy as np \n",
    "import pandas as pd \n",
    "import matplotlib.pyplot as plt\n",
    "from matplotlib.image import imread\n",
    "########################################################\n",
    "import torch\n",
    "from torch.utils.data import Dataset\n",
    "from torchvision.datasets import ImageFolder\n",
    "from torchvision import transforms\n",
    "from torch.utils.data import DataLoader, random_split\n",
    "from torch.nn.parallel import DataParallel\n",
    "import torch.multiprocessing as mp\n",
    "from PIL import Image\n",
    "import torch.nn.functional as F\n",
    "import torch.nn as nn\n",
    "from torch import optim\n",
    "import torchvision.transforms as transforms\n",
    "########################################################\n",
    "import random\n",
    "import os\n",
    "from glob import glob\n",
    "########################################################"
   ]
  },
  {
   "cell_type": "code",
   "execution_count": 2,
   "id": "98f8bbe3",
   "metadata": {
    "execution": {
     "iopub.execute_input": "2024-05-08T04:22:41.845168Z",
     "iopub.status.busy": "2024-05-08T04:22:41.844361Z",
     "iopub.status.idle": "2024-05-08T04:22:58.600287Z",
     "shell.execute_reply": "2024-05-08T04:22:58.599155Z"
    },
    "papermill": {
     "duration": 16.76826,
     "end_time": "2024-05-08T04:22:58.602995",
     "exception": false,
     "start_time": "2024-05-08T04:22:41.834735",
     "status": "completed"
    },
    "tags": []
   },
   "outputs": [
    {
     "name": "stdout",
     "output_type": "stream",
     "text": [
      "Requirement already satisfied: torchvision in c:\\users\\nihal\\appdata\\local\\packages\\pythonsoftwarefoundation.python.3.11_qbz5n2kfra8p0\\localcache\\local-packages\\python311\\site-packages (0.22.1)\n",
      "Requirement already satisfied: numpy in c:\\users\\nihal\\appdata\\local\\packages\\pythonsoftwarefoundation.python.3.11_qbz5n2kfra8p0\\localcache\\local-packages\\python311\\site-packages (from torchvision) (1.26.4)\n",
      "Requirement already satisfied: torch==2.7.1 in c:\\users\\nihal\\appdata\\local\\packages\\pythonsoftwarefoundation.python.3.11_qbz5n2kfra8p0\\localcache\\local-packages\\python311\\site-packages (from torchvision) (2.7.1)\n",
      "Requirement already satisfied: pillow!=8.3.*,>=5.3.0 in c:\\users\\nihal\\appdata\\local\\packages\\pythonsoftwarefoundation.python.3.11_qbz5n2kfra8p0\\localcache\\local-packages\\python311\\site-packages (from torchvision) (10.3.0)\n",
      "Requirement already satisfied: filelock in c:\\users\\nihal\\appdata\\local\\packages\\pythonsoftwarefoundation.python.3.11_qbz5n2kfra8p0\\localcache\\local-packages\\python311\\site-packages (from torch==2.7.1->torchvision) (3.15.4)\n",
      "Requirement already satisfied: typing-extensions>=4.10.0 in c:\\users\\nihal\\appdata\\local\\packages\\pythonsoftwarefoundation.python.3.11_qbz5n2kfra8p0\\localcache\\local-packages\\python311\\site-packages (from torch==2.7.1->torchvision) (4.11.0)\n",
      "Requirement already satisfied: sympy>=1.13.3 in c:\\users\\nihal\\appdata\\local\\packages\\pythonsoftwarefoundation.python.3.11_qbz5n2kfra8p0\\localcache\\local-packages\\python311\\site-packages (from torch==2.7.1->torchvision) (1.14.0)\n",
      "Requirement already satisfied: networkx in c:\\users\\nihal\\appdata\\local\\packages\\pythonsoftwarefoundation.python.3.11_qbz5n2kfra8p0\\localcache\\local-packages\\python311\\site-packages (from torch==2.7.1->torchvision) (3.5)\n",
      "Requirement already satisfied: jinja2 in c:\\users\\nihal\\appdata\\local\\packages\\pythonsoftwarefoundation.python.3.11_qbz5n2kfra8p0\\localcache\\local-packages\\python311\\site-packages (from torch==2.7.1->torchvision) (3.1.3)\n",
      "Requirement already satisfied: fsspec in c:\\users\\nihal\\appdata\\local\\packages\\pythonsoftwarefoundation.python.3.11_qbz5n2kfra8p0\\localcache\\local-packages\\python311\\site-packages (from torch==2.7.1->torchvision) (2024.6.1)\n",
      "Requirement already satisfied: mpmath<1.4,>=1.1.0 in c:\\users\\nihal\\appdata\\local\\packages\\pythonsoftwarefoundation.python.3.11_qbz5n2kfra8p0\\localcache\\local-packages\\python311\\site-packages (from sympy>=1.13.3->torch==2.7.1->torchvision) (1.3.0)\n",
      "Requirement already satisfied: MarkupSafe>=2.0 in c:\\users\\nihal\\appdata\\local\\packages\\pythonsoftwarefoundation.python.3.11_qbz5n2kfra8p0\\localcache\\local-packages\\python311\\site-packages (from jinja2->torch==2.7.1->torchvision) (2.1.5)\n"
     ]
    },
    {
     "name": "stderr",
     "output_type": "stream",
     "text": [
      "\n",
      "[notice] A new release of pip is available: 24.3.1 -> 25.1.1\n",
      "[notice] To update, run: C:\\Users\\nihal\\AppData\\Local\\Microsoft\\WindowsApps\\PythonSoftwareFoundation.Python.3.11_qbz5n2kfra8p0\\python.exe -m pip install --upgrade pip\n"
     ]
    }
   ],
   "source": [
    "!pip install torchvision"
   ]
  },
  {
   "cell_type": "code",
   "execution_count": 3,
   "id": "688a24b9",
   "metadata": {
    "execution": {
     "iopub.execute_input": "2024-05-08T04:22:58.621133Z",
     "iopub.status.busy": "2024-05-08T04:22:58.620775Z",
     "iopub.status.idle": "2024-05-08T04:22:58.633711Z",
     "shell.execute_reply": "2024-05-08T04:22:58.632928Z"
    },
    "papermill": {
     "duration": 0.024755,
     "end_time": "2024-05-08T04:22:58.636014",
     "exception": false,
     "start_time": "2024-05-08T04:22:58.611259",
     "status": "completed"
    },
    "tags": []
   },
   "outputs": [],
   "source": [
    "pre_path_labels = glob(\"/kaggle/input/natural-images/natural_images/*\")\n"
   ]
  },
  {
   "cell_type": "code",
   "execution_count": 4,
   "id": "3d1f4643",
   "metadata": {
    "execution": {
     "iopub.execute_input": "2024-05-08T04:22:58.653084Z",
     "iopub.status.busy": "2024-05-08T04:22:58.652757Z",
     "iopub.status.idle": "2024-05-08T04:23:00.818163Z",
     "shell.execute_reply": "2024-05-08T04:23:00.817220Z"
    },
    "papermill": {
     "duration": 2.176757,
     "end_time": "2024-05-08T04:23:00.820697",
     "exception": false,
     "start_time": "2024-05-08T04:22:58.643940",
     "status": "completed"
    },
    "tags": []
   },
   "outputs": [],
   "source": [
    "test_set = []\n",
    "for pre_path in pre_path_labels:\n",
    "    img_paths = glob(pre_path + \"/*\")[:32]\n",
    "    test_set.extend(img_paths)"
   ]
  },
  {
   "cell_type": "code",
   "execution_count": 5,
   "id": "9524f55e",
   "metadata": {
    "execution": {
     "iopub.execute_input": "2024-05-08T04:23:00.837973Z",
     "iopub.status.busy": "2024-05-08T04:23:00.837563Z",
     "iopub.status.idle": "2024-05-08T04:23:00.845123Z",
     "shell.execute_reply": "2024-05-08T04:23:00.844136Z"
    },
    "papermill": {
     "duration": 0.018002,
     "end_time": "2024-05-08T04:23:00.847006",
     "exception": false,
     "start_time": "2024-05-08T04:23:00.829004",
     "status": "completed"
    },
    "tags": []
   },
   "outputs": [
    {
     "data": {
      "text/plain": [
       "0"
      ]
     },
     "execution_count": 5,
     "metadata": {},
     "output_type": "execute_result"
    }
   ],
   "source": [
    "len(test_set)"
   ]
  },
  {
   "cell_type": "code",
   "execution_count": 6,
   "id": "69eeea42",
   "metadata": {
    "execution": {
     "iopub.execute_input": "2024-05-08T04:23:00.864367Z",
     "iopub.status.busy": "2024-05-08T04:23:00.864032Z",
     "iopub.status.idle": "2024-05-08T04:23:00.870908Z",
     "shell.execute_reply": "2024-05-08T04:23:00.869963Z"
    },
    "papermill": {
     "duration": 0.018093,
     "end_time": "2024-05-08T04:23:00.872999",
     "exception": false,
     "start_time": "2024-05-08T04:23:00.854906",
     "status": "completed"
    },
    "tags": []
   },
   "outputs": [],
   "source": [
    "class ImagePathDataset(Dataset):\n",
    "    def __init__(self, image_paths, transform=None):\n",
    "        self.image_paths = image_paths\n",
    "        self.transform = transform\n",
    "\n",
    "    def __len__(self):\n",
    "        return len(self.image_paths)\n",
    "\n",
    "    def __getitem__(self, idx):\n",
    "        image_path = self.image_paths[idx]\n",
    "        image = Image.open(image_path).convert('RGB')\n",
    "\n",
    "        if self.transform:\n",
    "            image = self.transform(image)\n",
    "\n",
    "        return image"
   ]
  },
  {
   "cell_type": "code",
   "execution_count": 7,
   "id": "8ea94309",
   "metadata": {
    "execution": {
     "iopub.execute_input": "2024-05-08T04:23:00.890409Z",
     "iopub.status.busy": "2024-05-08T04:23:00.890119Z",
     "iopub.status.idle": "2024-05-08T04:23:00.896133Z",
     "shell.execute_reply": "2024-05-08T04:23:00.895216Z"
    },
    "papermill": {
     "duration": 0.017233,
     "end_time": "2024-05-08T04:23:00.898298",
     "exception": false,
     "start_time": "2024-05-08T04:23:00.881065",
     "status": "completed"
    },
    "tags": []
   },
   "outputs": [],
   "source": [
    "basic_transform = transforms.Compose([\n",
    "    transforms.Resize((256, 256)),  # Adjust the size as needed\n",
    "    transforms.ToTensor(),\n",
    "])\n",
    "\n",
    "test_dataset = ImagePathDataset(test_set, transform=basic_transform)\n",
    "test_loader = DataLoader(test_dataset, batch_size=64,\n",
    "                         shuffle=False, num_workers=4)  # look into collate fn"
   ]
  },
  {
   "cell_type": "code",
   "execution_count": 8,
   "id": "84de0690",
   "metadata": {
    "execution": {
     "iopub.execute_input": "2024-05-08T04:23:00.916077Z",
     "iopub.status.busy": "2024-05-08T04:23:00.915134Z",
     "iopub.status.idle": "2024-05-08T04:23:00.932137Z",
     "shell.execute_reply": "2024-05-08T04:23:00.931221Z"
    },
    "papermill": {
     "duration": 0.028106,
     "end_time": "2024-05-08T04:23:00.934370",
     "exception": false,
     "start_time": "2024-05-08T04:23:00.906264",
     "status": "completed"
    },
    "tags": []
   },
   "outputs": [],
   "source": [
    "# Encoder\n",
    "class Encoder(nn.Module):\n",
    "    def __init__(self):\n",
    "        super(Encoder, self).__init__()\n",
    "        self.conv1 = nn.Conv2d(3, 32, kernel_size=3, stride=2, padding=1)\n",
    "        self.conv2 = nn.Conv2d(32, 64, kernel_size=3, stride=2, padding=1)\n",
    "        self.conv3 = nn.Conv2d(64, 128, kernel_size=3, stride=2, padding=1)\n",
    "        self.conv4 = nn.Conv2d(128, 256, kernel_size=3, stride=2, padding=1)\n",
    "        self.bottleneck = nn.Conv2d(256, 64, kernel_size=3, stride=1, padding=1)\n",
    "\n",
    "    def forward(self, x):\n",
    "        x = F.relu(self.conv1(x))\n",
    "        x = F.relu(self.conv2(x))\n",
    "        x = F.relu(self.conv3(x))\n",
    "        x = F.relu(self.conv4(x))\n",
    "        x = self.bottleneck(x)\n",
    "        return x\n",
    "\n",
    "\n",
    "# Decoder\n",
    "class Decoder(nn.Module):\n",
    "    def __init__(self):\n",
    "        super(Decoder, self).__init__()\n",
    "        self.deconv1 = nn.ConvTranspose2d(64, 256, kernel_size=3, stride=2, padding=1, output_padding=1)\n",
    "        self.deconv2 = nn.ConvTranspose2d(256, 128, kernel_size=3, stride=2, padding=1, output_padding=1)\n",
    "        self.deconv3 = nn.ConvTranspose2d(128, 64, kernel_size=3, stride=2, padding=1, output_padding=1)\n",
    "        self.deconv4 = nn.ConvTranspose2d(64, 32, kernel_size=3, stride=2, padding=1, output_padding=1)\n",
    "        self.deconv5 = nn.ConvTranspose2d(32, 3, kernel_size=3, stride=1, padding=1)\n",
    "\n",
    "    def forward(self, x):\n",
    "        x = F.relu(self.deconv1(x))\n",
    "        x = F.relu(self.deconv2(x))\n",
    "        x = F.relu(self.deconv3(x))\n",
    "        x = F.relu(self.deconv4(x))\n",
    "        x = torch.sigmoid(self.deconv5(x))\n",
    "        return x\n",
    "# Progressive Image Compression\n",
    "class ProgressiveAutoEncoder(nn.Module):\n",
    "    def __init__(self):\n",
    "        super(ProgressiveAutoEncoder, self).__init__()\n",
    "        self.encoder = Encoder()\n",
    "        self.decoder = Decoder()\n",
    "\n",
    "    def forward(self, x):\n",
    "        # Encode the input image\n",
    "        encoded = self.encoder(x)\n",
    "\n",
    "        # Progressive decoding\n",
    "        decoded = self.decoder(encoded)\n",
    "        residual = x - decoded\n",
    "        return decoded, residual"
   ]
  },
  {
   "cell_type": "code",
   "execution_count": 9,
   "id": "5d291677",
   "metadata": {
    "execution": {
     "iopub.execute_input": "2024-05-08T04:23:00.953364Z",
     "iopub.status.busy": "2024-05-08T04:23:00.952583Z",
     "iopub.status.idle": "2024-05-08T04:23:00.958384Z",
     "shell.execute_reply": "2024-05-08T04:23:00.957537Z"
    },
    "papermill": {
     "duration": 0.017795,
     "end_time": "2024-05-08T04:23:00.960593",
     "exception": false,
     "start_time": "2024-05-08T04:23:00.942798",
     "status": "completed"
    },
    "tags": []
   },
   "outputs": [],
   "source": [
    "model_paths = glob(\"/kaggle/input/convae-tests/pytorch/convae_test/1/*\")"
   ]
  },
  {
   "cell_type": "code",
   "execution_count": 10,
   "id": "620dc208",
   "metadata": {
    "execution": {
     "iopub.execute_input": "2024-05-08T04:23:00.978572Z",
     "iopub.status.busy": "2024-05-08T04:23:00.978269Z",
     "iopub.status.idle": "2024-05-08T04:23:00.984715Z",
     "shell.execute_reply": "2024-05-08T04:23:00.983577Z"
    },
    "papermill": {
     "duration": 0.018149,
     "end_time": "2024-05-08T04:23:00.987129",
     "exception": false,
     "start_time": "2024-05-08T04:23:00.968980",
     "status": "completed"
    },
    "tags": []
   },
   "outputs": [
    {
     "data": {
      "text/plain": [
       "[]"
      ]
     },
     "execution_count": 10,
     "metadata": {},
     "output_type": "execute_result"
    }
   ],
   "source": [
    "model_paths"
   ]
  },
  {
   "cell_type": "code",
   "execution_count": 11,
   "id": "6aa62ec2",
   "metadata": {
    "execution": {
     "iopub.execute_input": "2024-05-08T04:23:01.007791Z",
     "iopub.status.busy": "2024-05-08T04:23:01.007438Z",
     "iopub.status.idle": "2024-05-08T04:23:01.012689Z",
     "shell.execute_reply": "2024-05-08T04:23:01.011286Z"
    },
    "papermill": {
     "duration": 0.017367,
     "end_time": "2024-05-08T04:23:01.015241",
     "exception": false,
     "start_time": "2024-05-08T04:23:00.997874",
     "status": "completed"
    },
    "tags": []
   },
   "outputs": [],
   "source": [
    "from collections import defaultdict\n",
    "models_by_batch_size = defaultdict(list\n",
    "                                  )\n",
    "from torchvision.utils import make_grid"
   ]
  },
  {
   "cell_type": "code",
   "execution_count": 12,
   "id": "1532e2f2",
   "metadata": {
    "execution": {
     "iopub.execute_input": "2024-05-08T04:23:01.033792Z",
     "iopub.status.busy": "2024-05-08T04:23:01.033126Z",
     "iopub.status.idle": "2024-05-08T04:23:01.037684Z",
     "shell.execute_reply": "2024-05-08T04:23:01.036696Z"
    },
    "papermill": {
     "duration": 0.016366,
     "end_time": "2024-05-08T04:23:01.039945",
     "exception": false,
     "start_time": "2024-05-08T04:23:01.023579",
     "status": "completed"
    },
    "tags": []
   },
   "outputs": [],
   "source": [
    "model_paths.sort()"
   ]
  },
  {
   "cell_type": "code",
   "execution_count": 13,
   "id": "a44ba66e",
   "metadata": {
    "execution": {
     "iopub.execute_input": "2024-05-08T04:23:01.083823Z",
     "iopub.status.busy": "2024-05-08T04:23:01.083500Z",
     "iopub.status.idle": "2024-05-08T04:23:01.088130Z",
     "shell.execute_reply": "2024-05-08T04:23:01.087088Z"
    },
    "papermill": {
     "duration": 0.016114,
     "end_time": "2024-05-08T04:23:01.090327",
     "exception": false,
     "start_time": "2024-05-08T04:23:01.074213",
     "status": "completed"
    },
    "tags": []
   },
   "outputs": [],
   "source": [
    "model_map = [0, 128, 16, 256, 32, 64, 8]"
   ]
  },
  {
   "cell_type": "code",
   "execution_count": 14,
   "id": "4644f65f",
   "metadata": {
    "execution": {
     "iopub.execute_input": "2024-05-08T04:23:01.108219Z",
     "iopub.status.busy": "2024-05-08T04:23:01.107906Z",
     "iopub.status.idle": "2024-05-08T04:23:02.096449Z",
     "shell.execute_reply": "2024-05-08T04:23:02.095174Z"
    },
    "papermill": {
     "duration": 1.000406,
     "end_time": "2024-05-08T04:23:02.098994",
     "exception": false,
     "start_time": "2024-05-08T04:23:01.098588",
     "status": "completed"
    },
    "tags": []
   },
   "outputs": [],
   "source": [
    "encoders = []\n",
    "decoders = []\n",
    "for path in model_paths:\n",
    "    print(path)\n",
    "    if 'encoder' in path:\n",
    "        encoder = Encoder()  # Assuming you have defined the Encoder class\n",
    "        encoder.load_state_dict(torch.load(path))\n",
    "        encoder.eval()\n",
    "        encoders.append(encoder)\n",
    "    elif 'decoder' in path:\n",
    "        decoder = Decoder()  # Assuming you have defined the Decoder class\n",
    "        decoder.load_state_dict(torch.load(path))\n",
    "        decoder.eval()\n",
    "        decoders.append(decoder)"
   ]
  },
  {
   "cell_type": "code",
   "execution_count": 15,
   "id": "76b70c75",
   "metadata": {
    "execution": {
     "iopub.execute_input": "2024-05-08T04:23:02.118902Z",
     "iopub.status.busy": "2024-05-08T04:23:02.118479Z",
     "iopub.status.idle": "2024-05-08T04:23:02.126527Z",
     "shell.execute_reply": "2024-05-08T04:23:02.125494Z"
    },
    "papermill": {
     "duration": 0.020265,
     "end_time": "2024-05-08T04:23:02.128620",
     "exception": false,
     "start_time": "2024-05-08T04:23:02.108355",
     "status": "completed"
    },
    "tags": []
   },
   "outputs": [],
   "source": [
    "def compress_decompress_image(image, encoder, decoder):\n",
    "    # Move the image and models to the appropriate device (CPU or GPU)\n",
    "    device = torch.device('cuda' if torch.cuda.is_available() else 'cpu')\n",
    "    image = image.to(device)\n",
    "    encoder = nn.DataParallel(encoder.to(device))\n",
    "    decoder = nn.DataParallel(decoder.to(device))\n",
    "    # Compress the image using the encoder\n",
    "    encoded = encoder(image)\n",
    "    \n",
    "    # Decompress the image using the decoder\n",
    "    decoded = decoder(encoded)\n",
    "    encoder.module.cpu()\n",
    "    decoder.module.cpu()\n",
    "\n",
    "    # Detach the tensors from the computational graph\n",
    "    for param in encoder.module.parameters():\n",
    "        param.detach_()\n",
    "\n",
    "    for param in decoder.module.parameters():\n",
    "        param.detach_()\n",
    "\n",
    "    return decoded"
   ]
  },
  {
   "cell_type": "code",
   "execution_count": 16,
   "id": "82ad7420",
   "metadata": {
    "execution": {
     "iopub.execute_input": "2024-05-08T04:23:02.148324Z",
     "iopub.status.busy": "2024-05-08T04:23:02.147911Z",
     "iopub.status.idle": "2024-05-08T04:23:04.027795Z",
     "shell.execute_reply": "2024-05-08T04:23:04.026684Z"
    },
    "papermill": {
     "duration": 1.892977,
     "end_time": "2024-05-08T04:23:04.030622",
     "exception": false,
     "start_time": "2024-05-08T04:23:02.137645",
     "status": "completed"
    },
    "tags": []
   },
   "outputs": [],
   "source": [
    "import io\n",
    "from skimage.metrics import structural_similarity as ssim"
   ]
  },
  {
   "cell_type": "code",
   "execution_count": 17,
   "id": "3ab00a64",
   "metadata": {
    "execution": {
     "iopub.execute_input": "2024-05-08T04:23:04.052468Z",
     "iopub.status.busy": "2024-05-08T04:23:04.051454Z",
     "iopub.status.idle": "2024-05-08T04:23:05.082949Z",
     "shell.execute_reply": "2024-05-08T04:23:05.081689Z"
    },
    "papermill": {
     "duration": 1.044919,
     "end_time": "2024-05-08T04:23:05.085561",
     "exception": false,
     "start_time": "2024-05-08T04:23:04.040642",
     "status": "completed"
    },
    "tags": []
   },
   "outputs": [
    {
     "ename": "StopIteration",
     "evalue": "",
     "output_type": "error",
     "traceback": [
      "\u001b[1;31m---------------------------------------------------------------------------\u001b[0m",
      "\u001b[1;31mStopIteration\u001b[0m                             Traceback (most recent call last)",
      "Cell \u001b[1;32mIn[17], line 1\u001b[0m\n\u001b[1;32m----> 1\u001b[0m test_images\u001b[38;5;241m=\u001b[39m \u001b[38;5;28;43mnext\u001b[39;49m\u001b[43m(\u001b[49m\u001b[38;5;28;43miter\u001b[39;49m\u001b[43m(\u001b[49m\u001b[43mtest_loader\u001b[49m\u001b[43m)\u001b[49m\u001b[43m)\u001b[49m\n",
      "File \u001b[1;32m~\\AppData\\Local\\Packages\\PythonSoftwareFoundation.Python.3.11_qbz5n2kfra8p0\\LocalCache\\local-packages\\Python311\\site-packages\\torch\\utils\\data\\dataloader.py:733\u001b[0m, in \u001b[0;36m_BaseDataLoaderIter.__next__\u001b[1;34m(self)\u001b[0m\n\u001b[0;32m    730\u001b[0m \u001b[38;5;28;01mif\u001b[39;00m \u001b[38;5;28mself\u001b[39m\u001b[38;5;241m.\u001b[39m_sampler_iter \u001b[38;5;129;01mis\u001b[39;00m \u001b[38;5;28;01mNone\u001b[39;00m:\n\u001b[0;32m    731\u001b[0m     \u001b[38;5;66;03m# TODO(https://github.com/pytorch/pytorch/issues/76750)\u001b[39;00m\n\u001b[0;32m    732\u001b[0m     \u001b[38;5;28mself\u001b[39m\u001b[38;5;241m.\u001b[39m_reset()  \u001b[38;5;66;03m# type: ignore[call-arg]\u001b[39;00m\n\u001b[1;32m--> 733\u001b[0m data \u001b[38;5;241m=\u001b[39m \u001b[38;5;28;43mself\u001b[39;49m\u001b[38;5;241;43m.\u001b[39;49m\u001b[43m_next_data\u001b[49m\u001b[43m(\u001b[49m\u001b[43m)\u001b[49m\n\u001b[0;32m    734\u001b[0m \u001b[38;5;28mself\u001b[39m\u001b[38;5;241m.\u001b[39m_num_yielded \u001b[38;5;241m+\u001b[39m\u001b[38;5;241m=\u001b[39m \u001b[38;5;241m1\u001b[39m\n\u001b[0;32m    735\u001b[0m \u001b[38;5;28;01mif\u001b[39;00m (\n\u001b[0;32m    736\u001b[0m     \u001b[38;5;28mself\u001b[39m\u001b[38;5;241m.\u001b[39m_dataset_kind \u001b[38;5;241m==\u001b[39m _DatasetKind\u001b[38;5;241m.\u001b[39mIterable\n\u001b[0;32m    737\u001b[0m     \u001b[38;5;129;01mand\u001b[39;00m \u001b[38;5;28mself\u001b[39m\u001b[38;5;241m.\u001b[39m_IterableDataset_len_called \u001b[38;5;129;01mis\u001b[39;00m \u001b[38;5;129;01mnot\u001b[39;00m \u001b[38;5;28;01mNone\u001b[39;00m\n\u001b[0;32m    738\u001b[0m     \u001b[38;5;129;01mand\u001b[39;00m \u001b[38;5;28mself\u001b[39m\u001b[38;5;241m.\u001b[39m_num_yielded \u001b[38;5;241m>\u001b[39m \u001b[38;5;28mself\u001b[39m\u001b[38;5;241m.\u001b[39m_IterableDataset_len_called\n\u001b[0;32m    739\u001b[0m ):\n",
      "File \u001b[1;32m~\\AppData\\Local\\Packages\\PythonSoftwareFoundation.Python.3.11_qbz5n2kfra8p0\\LocalCache\\local-packages\\Python311\\site-packages\\torch\\utils\\data\\dataloader.py:1480\u001b[0m, in \u001b[0;36m_MultiProcessingDataLoaderIter._next_data\u001b[1;34m(self)\u001b[0m\n\u001b[0;32m   1478\u001b[0m     \u001b[38;5;28;01mif\u001b[39;00m \u001b[38;5;129;01mnot\u001b[39;00m \u001b[38;5;28mself\u001b[39m\u001b[38;5;241m.\u001b[39m_persistent_workers:\n\u001b[0;32m   1479\u001b[0m         \u001b[38;5;28mself\u001b[39m\u001b[38;5;241m.\u001b[39m_shutdown_workers()\n\u001b[1;32m-> 1480\u001b[0m     \u001b[38;5;28;01mraise\u001b[39;00m \u001b[38;5;167;01mStopIteration\u001b[39;00m\n\u001b[0;32m   1482\u001b[0m \u001b[38;5;66;03m# Now `self._rcvd_idx` is the batch index we want to fetch\u001b[39;00m\n\u001b[0;32m   1483\u001b[0m \n\u001b[0;32m   1484\u001b[0m \u001b[38;5;66;03m# Check if the next sample has already been generated\u001b[39;00m\n\u001b[0;32m   1485\u001b[0m \u001b[38;5;28;01mif\u001b[39;00m \u001b[38;5;28mlen\u001b[39m(\u001b[38;5;28mself\u001b[39m\u001b[38;5;241m.\u001b[39m_task_info[\u001b[38;5;28mself\u001b[39m\u001b[38;5;241m.\u001b[39m_rcvd_idx]) \u001b[38;5;241m==\u001b[39m \u001b[38;5;241m2\u001b[39m:\n",
      "\u001b[1;31mStopIteration\u001b[0m: "
     ]
    }
   ],
   "source": [
    "test_images= next(iter(test_loader))\n"
   ]
  },
  {
   "cell_type": "code",
   "execution_count": 18,
   "id": "929947c7",
   "metadata": {
    "execution": {
     "iopub.execute_input": "2024-05-08T04:23:05.105010Z",
     "iopub.status.busy": "2024-05-08T04:23:05.104642Z",
     "iopub.status.idle": "2024-05-08T04:23:05.114468Z",
     "shell.execute_reply": "2024-05-08T04:23:05.113543Z"
    },
    "papermill": {
     "duration": 0.022104,
     "end_time": "2024-05-08T04:23:05.116758",
     "exception": false,
     "start_time": "2024-05-08T04:23:05.094654",
     "status": "completed"
    },
    "tags": []
   },
   "outputs": [],
   "source": [
    "def plotter(test_images, reconstructed_images, ssim_values, model_name):\n",
    "    original_grid = make_grid(test_images, nrow=3, normalize=True)\n",
    "    reconstructed_grid = make_grid(reconstructed_images, nrow=3, normalize=True)\n",
    "\n",
    "    # Plot the results\n",
    "    fig, ax = plt.subplots(1, 3, figsize=(18, 6))\n",
    "\n",
    "    ax[0].imshow(np.transpose(original_grid.detach().cpu().numpy(), (1, 2, 0)))\n",
    "    ax[0].set_title('Original Images')\n",
    "    ax[0].axis('off')\n",
    "\n",
    "    ax[1].imshow(np.transpose(reconstructed_grid.detach().cpu().numpy(), (1, 2, 0)))\n",
    "    ax[1].set_title('Reconstructed Images')\n",
    "    ax[1].axis('off')\n",
    "\n",
    "    ax[2].bar(range(len(ssim_values)), ssim_values)\n",
    "    ax[2].set_title(f'SSIM Values for {model_name}')\n",
    "    ax[2].set_xlabel('Image Index')\n",
    "    ax[2].set_ylabel('SSIM')\n",
    "\n",
    "    plt.show()"
   ]
  },
  {
   "cell_type": "code",
   "execution_count": 19,
   "id": "257d93b3",
   "metadata": {
    "execution": {
     "iopub.execute_input": "2024-05-08T04:23:05.135837Z",
     "iopub.status.busy": "2024-05-08T04:23:05.135486Z",
     "iopub.status.idle": "2024-05-08T04:23:05.140308Z",
     "shell.execute_reply": "2024-05-08T04:23:05.139351Z"
    },
    "papermill": {
     "duration": 0.016704,
     "end_time": "2024-05-08T04:23:05.142509",
     "exception": false,
     "start_time": "2024-05-08T04:23:05.125805",
     "status": "completed"
    },
    "tags": []
   },
   "outputs": [],
   "source": [
    "def avg(ssim_values):\n",
    "    s = 0\n",
    "    for i in ssim_values:\n",
    "        s += i\n",
    "    return s/len(ssim_values)"
   ]
  },
  {
   "cell_type": "code",
   "execution_count": 20,
   "id": "bec2291c",
   "metadata": {
    "execution": {
     "iopub.execute_input": "2024-05-08T04:23:05.161363Z",
     "iopub.status.busy": "2024-05-08T04:23:05.161026Z",
     "iopub.status.idle": "2024-05-08T04:23:28.476081Z",
     "shell.execute_reply": "2024-05-08T04:23:28.475179Z"
    },
    "papermill": {
     "duration": 23.327084,
     "end_time": "2024-05-08T04:23:28.478387",
     "exception": false,
     "start_time": "2024-05-08T04:23:05.151303",
     "status": "completed"
    },
    "tags": []
   },
   "outputs": [],
   "source": [
    "c = 0\n",
    "for encoder, decoder in zip(encoders, decoders):\n",
    "    c += 1\n",
    "    reconstructed_images = compress_decompress_image(test_images, encoder, decoder)\n",
    "    ssim_values = []\n",
    "\n",
    "    for orig_img, recon_img in zip(test_images, reconstructed_images):\n",
    "        orig_img_np = orig_img.permute(1, 2, 0).detach().cpu().numpy()\n",
    "        recon_img_np = recon_img.permute(1, 2, 0).detach().cpu().numpy()\n",
    "        ssim_val = ssim(orig_img_np, recon_img_np, data_range=1.0, multichannel=True, channel_axis=2)\n",
    "        ssim_values.append(ssim_val)\n",
    "\n",
    "    print(f\"Batch ID:{model_map[c]}, AVG SSIM: {sum(ssim_values) / len(ssim_values)}\")\n",
    "\n",
    "    plotter(test_images, reconstructed_images, ssim_values, model_map[c])   "
   ]
  },
  {
   "cell_type": "code",
   "execution_count": 21,
   "id": "d3805360",
   "metadata": {
    "execution": {
     "iopub.execute_input": "2024-05-08T04:23:28.530334Z",
     "iopub.status.busy": "2024-05-08T04:23:28.529960Z",
     "iopub.status.idle": "2024-05-08T04:23:29.715961Z",
     "shell.execute_reply": "2024-05-08T04:23:29.714832Z"
    },
    "papermill": {
     "duration": 1.214906,
     "end_time": "2024-05-08T04:23:29.718666",
     "exception": false,
     "start_time": "2024-05-08T04:23:28.503760",
     "status": "completed"
    },
    "tags": []
   },
   "outputs": [
    {
     "name": "stdout",
     "output_type": "stream",
     "text": [
      "Mon Jun 16 13:14:27 2025       \n",
      "+-----------------------------------------------------------------------------------------+\n",
      "| NVIDIA-SMI 576.52                 Driver Version: 576.52         CUDA Version: 12.9     |\n",
      "|-----------------------------------------+------------------------+----------------------+\n",
      "| GPU  Name                  Driver-Model | Bus-Id          Disp.A | Volatile Uncorr. ECC |\n",
      "| Fan  Temp   Perf          Pwr:Usage/Cap |           Memory-Usage | GPU-Util  Compute M. |\n",
      "|                                         |                        |               MIG M. |\n",
      "|=========================================+========================+======================|\n",
      "|   0  NVIDIA GeForce RTX 3050 ...  WDDM  |   00000000:01:00.0 Off |                  N/A |\n",
      "| N/A   59C    P0             15W /   75W |      23MiB /   4096MiB |      0%      Default |\n",
      "|                                         |                        |                  N/A |\n",
      "+-----------------------------------------+------------------------+----------------------+\n",
      "                                                                                         \n",
      "+-----------------------------------------------------------------------------------------+\n",
      "| Processes:                                                                              |\n",
      "|  GPU   GI   CI              PID   Type   Process name                        GPU Memory |\n",
      "|        ID   ID                                                               Usage      |\n",
      "|=========================================================================================|\n",
      "|    0   N/A  N/A           10444    C+G   ...s\\Win64\\EpicGamesLauncher.exe      N/A      |\n",
      "+-----------------------------------------------------------------------------------------+\n"
     ]
    }
   ],
   "source": [
    "!nvidia-smi"
   ]
  },
  {
   "cell_type": "code",
   "execution_count": 22,
   "id": "0b9c97e8",
   "metadata": {
    "execution": {
     "iopub.execute_input": "2024-05-08T04:23:29.772680Z",
     "iopub.status.busy": "2024-05-08T04:23:29.771670Z",
     "iopub.status.idle": "2024-05-08T04:23:30.044617Z",
     "shell.execute_reply": "2024-05-08T04:23:30.043327Z"
    },
    "papermill": {
     "duration": 0.30264,
     "end_time": "2024-05-08T04:23:30.046871",
     "exception": false,
     "start_time": "2024-05-08T04:23:29.744231",
     "status": "completed"
    },
    "tags": []
   },
   "outputs": [],
   "source": [
    "import gc\n",
    "gc.collect()\n",
    "torch.cuda.empty_cache()"
   ]
  }
 ],
 "metadata": {
  "kaggle": {
   "accelerator": "nvidiaTeslaT4",
   "dataSources": [
    {
     "datasetId": 42780,
     "sourceId": 75676,
     "sourceType": "datasetVersion"
    },
    {
     "isSourceIdPinned": true,
     "modelInstanceId": 36197,
     "sourceId": 43097,
     "sourceType": "modelInstanceVersion"
    }
   ],
   "dockerImageVersionId": 30699,
   "isGpuEnabled": true,
   "isInternetEnabled": true,
   "language": "python",
   "sourceType": "notebook"
  },
  "kernelspec": {
   "display_name": "Python 3",
   "language": "python",
   "name": "python3"
  },
  "language_info": {
   "codemirror_mode": {
    "name": "ipython",
    "version": 3
   },
   "file_extension": ".py",
   "mimetype": "text/x-python",
   "name": "python",
   "nbconvert_exporter": "python",
   "pygments_lexer": "ipython3",
   "version": "3.11.9"
  },
  "papermill": {
   "default_parameters": {},
   "duration": 68.103529,
   "end_time": "2024-05-08T04:23:32.921329",
   "environment_variables": {},
   "exception": null,
   "input_path": "__notebook__.ipynb",
   "output_path": "__notebook__.ipynb",
   "parameters": {},
   "start_time": "2024-05-08T04:22:24.817800",
   "version": "2.5.0"
  }
 },
 "nbformat": 4,
 "nbformat_minor": 5
}
